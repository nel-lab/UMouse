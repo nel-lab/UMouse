{
 "cells": [
  {
   "cell_type": "code",
   "execution_count": 1,
   "metadata": {},
   "outputs": [
    {
     "name": "stderr",
     "output_type": "stream",
     "text": [
      "C:\\Users\\Jake\\Anaconda3\\envs\\analysis_env\\lib\\site-packages\\behavelet\\morlet.py:26: UserWarning: CuPy was not found, so GPU functionality is unavailable. See https://github.com/cupy/cupy#installation for installation instructions\n",
      "  warnings.warn('CuPy was not found, so GPU functionality is unavailable. '\n"
     ]
    }
   ],
   "source": [
    "import UMouseLoader\n",
    "import UMouseEstimator\n",
    "import UMousePlotter"
   ]
  },
  {
   "cell_type": "code",
   "execution_count": 2,
   "metadata": {},
   "outputs": [],
   "source": [
    "#UMouseLoader \n",
    "#Load and preprocess the data\n",
    "\n",
    "expt_pathname = 'D:/data/BehaviorData/RW_data/201218_000/trackingData_201218_000'\n",
    "output_dir = 'D:/data/BehaviorData/RW_data/UMouse_output/'\n",
    "\n",
    "#initiate the class and pass it the paths for the data and output directory\n",
    "um_load = UMouseLoader.UMouseLoader(expt_pathname, output_dir=output_dir)\n",
    "#remove pathname definition from initilization and add to loader"
   ]
  },
  {
   "cell_type": "code",
   "execution_count": 3,
   "metadata": {},
   "outputs": [],
   "source": [
    "#load the data, perform morlet wavelet transform, and label task events\n",
    "#behavior_df, freqs, power, mwt_df, bx_labels = um_load.load_mwt_label(expt_pathname)\n",
    "behavior_df = um_load.load_data()"
   ]
  },
  {
   "cell_type": "code",
   "execution_count": 4,
   "metadata": {},
   "outputs": [
    {
     "data": {
      "text/html": [
       "<div>\n",
       "<style scoped>\n",
       "    .dataframe tbody tr th:only-of-type {\n",
       "        vertical-align: middle;\n",
       "    }\n",
       "\n",
       "    .dataframe tbody tr th {\n",
       "        vertical-align: top;\n",
       "    }\n",
       "\n",
       "    .dataframe thead th {\n",
       "        text-align: right;\n",
       "    }\n",
       "</style>\n",
       "<table border=\"1\" class=\"dataframe\">\n",
       "  <thead>\n",
       "    <tr style=\"text-align: right;\">\n",
       "      <th></th>\n",
       "      <th>BLX</th>\n",
       "      <th>BLY</th>\n",
       "      <th>BLZ</th>\n",
       "      <th>FLX</th>\n",
       "      <th>FLY</th>\n",
       "      <th>FLZ</th>\n",
       "      <th>FRX</th>\n",
       "      <th>FRY</th>\n",
       "      <th>FRZ</th>\n",
       "      <th>BRX</th>\n",
       "      <th>...</th>\n",
       "      <th>timeStamps</th>\n",
       "      <th>jawVarX</th>\n",
       "      <th>jawVarY</th>\n",
       "      <th>velVar</th>\n",
       "      <th>whiskerAngle</th>\n",
       "      <th>bodyAngles</th>\n",
       "      <th>rewardBool</th>\n",
       "      <th>obstacleBool</th>\n",
       "      <th>lickTimeBool</th>\n",
       "      <th>wiskContTimeBool</th>\n",
       "    </tr>\n",
       "  </thead>\n",
       "  <tbody>\n",
       "    <tr>\n",
       "      <th>0</th>\n",
       "      <td>0.035805</td>\n",
       "      <td>-0.017265</td>\n",
       "      <td>-0.003116</td>\n",
       "      <td>0.080890</td>\n",
       "      <td>-0.011266</td>\n",
       "      <td>0.004806</td>\n",
       "      <td>0.072738</td>\n",
       "      <td>0.002487</td>\n",
       "      <td>0.000939</td>\n",
       "      <td>0.041887</td>\n",
       "      <td>...</td>\n",
       "      <td>3.212676</td>\n",
       "      <td>105.920000</td>\n",
       "      <td>107.920000</td>\n",
       "      <td>0.526060</td>\n",
       "      <td>-77.750215</td>\n",
       "      <td>0.967742</td>\n",
       "      <td>0.0</td>\n",
       "      <td>0.0</td>\n",
       "      <td>0.0</td>\n",
       "      <td>0.0</td>\n",
       "    </tr>\n",
       "    <tr>\n",
       "      <th>1</th>\n",
       "      <td>0.035805</td>\n",
       "      <td>-0.017139</td>\n",
       "      <td>-0.003659</td>\n",
       "      <td>0.083377</td>\n",
       "      <td>-0.010284</td>\n",
       "      <td>0.004806</td>\n",
       "      <td>0.072738</td>\n",
       "      <td>0.002487</td>\n",
       "      <td>0.000939</td>\n",
       "      <td>0.043977</td>\n",
       "      <td>...</td>\n",
       "      <td>3.216672</td>\n",
       "      <td>106.160000</td>\n",
       "      <td>107.760000</td>\n",
       "      <td>0.525677</td>\n",
       "      <td>-75.142815</td>\n",
       "      <td>0.770317</td>\n",
       "      <td>0.0</td>\n",
       "      <td>0.0</td>\n",
       "      <td>0.0</td>\n",
       "      <td>0.0</td>\n",
       "    </tr>\n",
       "    <tr>\n",
       "      <th>2</th>\n",
       "      <td>0.033840</td>\n",
       "      <td>-0.017014</td>\n",
       "      <td>-0.004349</td>\n",
       "      <td>0.084756</td>\n",
       "      <td>-0.009698</td>\n",
       "      <td>0.005349</td>\n",
       "      <td>0.070648</td>\n",
       "      <td>0.002466</td>\n",
       "      <td>0.001232</td>\n",
       "      <td>0.046841</td>\n",
       "      <td>...</td>\n",
       "      <td>3.220670</td>\n",
       "      <td>105.520004</td>\n",
       "      <td>108.080000</td>\n",
       "      <td>0.525253</td>\n",
       "      <td>-73.939304</td>\n",
       "      <td>0.484026</td>\n",
       "      <td>0.0</td>\n",
       "      <td>0.0</td>\n",
       "      <td>0.0</td>\n",
       "      <td>0.0</td>\n",
       "    </tr>\n",
       "    <tr>\n",
       "      <th>3</th>\n",
       "      <td>0.032001</td>\n",
       "      <td>-0.016972</td>\n",
       "      <td>-0.004516</td>\n",
       "      <td>0.085781</td>\n",
       "      <td>-0.009113</td>\n",
       "      <td>0.006018</td>\n",
       "      <td>0.068641</td>\n",
       "      <td>0.002425</td>\n",
       "      <td>0.001294</td>\n",
       "      <td>0.049391</td>\n",
       "      <td>...</td>\n",
       "      <td>3.224666</td>\n",
       "      <td>105.120000</td>\n",
       "      <td>108.320000</td>\n",
       "      <td>0.524730</td>\n",
       "      <td>-72.662640</td>\n",
       "      <td>0.000000</td>\n",
       "      <td>0.0</td>\n",
       "      <td>0.0</td>\n",
       "      <td>0.0</td>\n",
       "      <td>0.0</td>\n",
       "    </tr>\n",
       "    <tr>\n",
       "      <th>4</th>\n",
       "      <td>0.030203</td>\n",
       "      <td>-0.016951</td>\n",
       "      <td>-0.004976</td>\n",
       "      <td>0.086261</td>\n",
       "      <td>-0.008904</td>\n",
       "      <td>0.006457</td>\n",
       "      <td>0.066635</td>\n",
       "      <td>0.002362</td>\n",
       "      <td>0.001461</td>\n",
       "      <td>0.051732</td>\n",
       "      <td>...</td>\n",
       "      <td>3.228664</td>\n",
       "      <td>104.560005</td>\n",
       "      <td>108.560005</td>\n",
       "      <td>0.523939</td>\n",
       "      <td>-71.273210</td>\n",
       "      <td>-0.525889</td>\n",
       "      <td>0.0</td>\n",
       "      <td>0.0</td>\n",
       "      <td>0.0</td>\n",
       "      <td>0.0</td>\n",
       "    </tr>\n",
       "  </tbody>\n",
       "</table>\n",
       "<p>5 rows × 22 columns</p>\n",
       "</div>"
      ],
      "text/plain": [
       "        BLX       BLY       BLZ       FLX       FLY       FLZ       FRX  \\\n",
       "0  0.035805 -0.017265 -0.003116  0.080890 -0.011266  0.004806  0.072738   \n",
       "1  0.035805 -0.017139 -0.003659  0.083377 -0.010284  0.004806  0.072738   \n",
       "2  0.033840 -0.017014 -0.004349  0.084756 -0.009698  0.005349  0.070648   \n",
       "3  0.032001 -0.016972 -0.004516  0.085781 -0.009113  0.006018  0.068641   \n",
       "4  0.030203 -0.016951 -0.004976  0.086261 -0.008904  0.006457  0.066635   \n",
       "\n",
       "        FRY       FRZ       BRX  ...  timeStamps     jawVarX     jawVarY  \\\n",
       "0  0.002487  0.000939  0.041887  ...    3.212676  105.920000  107.920000   \n",
       "1  0.002487  0.000939  0.043977  ...    3.216672  106.160000  107.760000   \n",
       "2  0.002466  0.001232  0.046841  ...    3.220670  105.520004  108.080000   \n",
       "3  0.002425  0.001294  0.049391  ...    3.224666  105.120000  108.320000   \n",
       "4  0.002362  0.001461  0.051732  ...    3.228664  104.560005  108.560005   \n",
       "\n",
       "     velVar  whiskerAngle  bodyAngles  rewardBool  obstacleBool  lickTimeBool  \\\n",
       "0  0.526060    -77.750215    0.967742         0.0           0.0           0.0   \n",
       "1  0.525677    -75.142815    0.770317         0.0           0.0           0.0   \n",
       "2  0.525253    -73.939304    0.484026         0.0           0.0           0.0   \n",
       "3  0.524730    -72.662640    0.000000         0.0           0.0           0.0   \n",
       "4  0.523939    -71.273210   -0.525889         0.0           0.0           0.0   \n",
       "\n",
       "   wiskContTimeBool  \n",
       "0               0.0  \n",
       "1               0.0  \n",
       "2               0.0  \n",
       "3               0.0  \n",
       "4               0.0  \n",
       "\n",
       "[5 rows x 22 columns]"
      ]
     },
     "execution_count": 4,
     "metadata": {},
     "output_type": "execute_result"
    }
   ],
   "source": [
    "behavior_df.head()"
   ]
  },
  {
   "cell_type": "code",
   "execution_count": 6,
   "metadata": {},
   "outputs": [
    {
     "data": {
      "text/plain": [
       "Index(['BLX', 'BLY', 'BLZ', 'FLX', 'FLY', 'FLZ', 'FRX', 'FRY', 'FRZ', 'BRX',\n",
       "       'BRY', 'BRZ', 'timeStamps', 'jawVarX', 'jawVarY', 'velVar',\n",
       "       'whiskerAngle', 'bodyAngles', 'rewardBool', 'obstacleBool',\n",
       "       'lickTimeBool', 'wiskContTimeBool'],\n",
       "      dtype='object')"
      ]
     },
     "execution_count": 6,
     "metadata": {},
     "output_type": "execute_result"
    }
   ],
   "source": [
    "behavior_df.columns"
   ]
  },
  {
   "cell_type": "code",
   "execution_count": 9,
   "metadata": {},
   "outputs": [
    {
     "data": {
      "text/plain": [
       "456583"
      ]
     },
     "execution_count": 9,
     "metadata": {},
     "output_type": "execute_result"
    }
   ],
   "source": [
    "len(behavior_df)"
   ]
  },
  {
   "cell_type": "code",
   "execution_count": 8,
   "metadata": {},
   "outputs": [
    {
     "ename": "TypeError",
     "evalue": "concatenate() got multiple values for argument 'axis'",
     "output_type": "error",
     "traceback": [
      "\u001b[1;31m---------------------------------------------------------------------------\u001b[0m",
      "\u001b[1;31mTypeError\u001b[0m                                 Traceback (most recent call last)",
      "\u001b[1;32m<ipython-input-8-b75a29d2eb05>\u001b[0m in \u001b[0;36m<module>\u001b[1;34m\u001b[0m\n\u001b[1;32m----> 1\u001b[1;33m \u001b[0mfreqs\u001b[0m\u001b[1;33m,\u001b[0m \u001b[0mpower\u001b[0m\u001b[1;33m,\u001b[0m \u001b[0mmwt_df\u001b[0m \u001b[1;33m=\u001b[0m \u001b[0mum_load\u001b[0m\u001b[1;33m.\u001b[0m\u001b[0mmwt\u001b[0m\u001b[1;33m(\u001b[0m\u001b[0mbehavior_df\u001b[0m\u001b[1;33m,\u001b[0m \u001b[0mbodyAngle\u001b[0m\u001b[1;33m=\u001b[0m\u001b[1;32mTrue\u001b[0m\u001b[1;33m,\u001b[0m \u001b[0mjawAngle\u001b[0m\u001b[1;33m=\u001b[0m\u001b[1;32mTrue\u001b[0m\u001b[1;33m)\u001b[0m\u001b[1;33m\u001b[0m\u001b[1;33m\u001b[0m\u001b[0m\n\u001b[0m",
      "\u001b[1;32m~\\Documents\\PythonRepos\\locomotionAnalysis\\UMouseLoader.py\u001b[0m in \u001b[0;36mmwt\u001b[1;34m(self, behavior_df, n_frequencies, fmin, fmax, bodyAngle, jawAngle)\u001b[0m\n\u001b[0;32m    202\u001b[0m \u001b[1;33m\u001b[0m\u001b[0m\n\u001b[0;32m    203\u001b[0m         \u001b[1;32mif\u001b[0m \u001b[0mbodyAngle\u001b[0m\u001b[1;33m:\u001b[0m\u001b[1;33m\u001b[0m\u001b[1;33m\u001b[0m\u001b[0m\n\u001b[1;32m--> 204\u001b[1;33m             np.concatenate(mwt_input,\n\u001b[0m\u001b[0;32m    205\u001b[0m                             \u001b[0mbehavior_df\u001b[0m\u001b[1;33m[\u001b[0m\u001b[1;34m'bodyAngles'\u001b[0m\u001b[1;33m]\u001b[0m\u001b[1;33m.\u001b[0m\u001b[0mto_numpy\u001b[0m\u001b[1;33m(\u001b[0m\u001b[1;33m)\u001b[0m\u001b[1;33m.\u001b[0m\u001b[0mreshape\u001b[0m\u001b[1;33m(\u001b[0m\u001b[0mlen\u001b[0m\u001b[1;33m(\u001b[0m\u001b[0mbehavior_df\u001b[0m\u001b[1;33m)\u001b[0m\u001b[1;33m,\u001b[0m\u001b[1;36m1\u001b[0m\u001b[1;33m)\u001b[0m\u001b[1;33m,\u001b[0m\u001b[1;33m\u001b[0m\u001b[1;33m\u001b[0m\u001b[0m\n\u001b[0;32m    206\u001b[0m                             axis=1)\n",
      "\u001b[1;32m<__array_function__ internals>\u001b[0m in \u001b[0;36mconcatenate\u001b[1;34m(*args, **kwargs)\u001b[0m\n",
      "\u001b[1;31mTypeError\u001b[0m: concatenate() got multiple values for argument 'axis'"
     ]
    }
   ],
   "source": [
    "freqs, power, mwt_df = um_load.mwt(behavior_df, bodyAngle=True, jawAngle=True)"
   ]
  },
  {
   "cell_type": "code",
   "execution_count": null,
   "metadata": {},
   "outputs": [],
   "source": [
    "bx_labels = um_load.label_behavior(behavior_df)"
   ]
  },
  {
   "cell_type": "code",
   "execution_count": null,
   "metadata": {},
   "outputs": [],
   "source": []
  },
  {
   "cell_type": "code",
   "execution_count": null,
   "metadata": {},
   "outputs": [],
   "source": [
    "#save the variables to a dictionary in the output_dir\n",
    "um_loader.save_outputs(behavior_df, freqs, power, mwt_df, bx_labels)"
   ]
  },
  {
   "cell_type": "code",
   "execution_count": null,
   "metadata": {},
   "outputs": [],
   "source": [
    "#UMouseEstimator\n",
    "\n",
    "#Perform UMAP embedding on the processed data\n",
    "\n",
    "um_estimate = UMouseEstimator(pathnames, output_dir)\n",
    "#just pass pathnames in fit and transform methods\n",
    "#keep parameters and data separated\n",
    "\n",
    "um_estimate.fit(fit_path = pathnames)\n",
    "\n",
    "um_embedding = um_estimate.transform(transform_path = pathnames)\n",
    "\n",
    "\n"
   ]
  },
  {
   "cell_type": "code",
   "execution_count": null,
   "metadata": {},
   "outputs": [],
   "source": [
    "#UMousePlotter\n",
    "#Plot the UMAP embedding\n",
    "\n",
    "\n",
    "\n",
    "#initialize plotter class and choose datasets to include in the plot\n",
    "#optionally load dlc here\n",
    "#load embedding here \n",
    "um_plot = UMousePlotter(pathnames)\n",
    "\n",
    "#general embedding plot, can plot for each individual or single plot for group\n",
    "um_plot.plot_embedding(aggregate=True)\n",
    "\n",
    "#embedding plot labelled with behavior points, default to true, add kwargs for plotting params (alpha, etc)\n",
    "#  Make more general. Pass in a vector or list or vectors if aggregate=True\n",
    "um_plot.plot_bx_labels(aggregate=True, label_vector=vec)\n",
    "\n",
    "#quiver plot, group or individual. Direction or magnitude\n",
    "#will need to pass a mouse index\n",
    "um_plot.quiver(aggregate=True, z_axis='direction', dlc=dlc_array)\n",
    "\n",
    "#trajectory through umap space. option to plot trial landmarks like reward and obstacle on/off\n",
    "#need args to set number of trial to plot and which trials to plot \n",
    "um_plot.umap_trajectory(landmarks=True)\n",
    "\n",
    "#make an interactive plot that can show you limb trajectories of selected datapoints\n",
    "um_plot.interactive()\n",
    "\n",
    "\n",
    "um_plot.interactive_movie(mouse_ind, movie, )"
   ]
  }
 ],
 "metadata": {
  "kernelspec": {
   "display_name": "Python 3",
   "language": "python",
   "name": "python3"
  },
  "language_info": {
   "codemirror_mode": {
    "name": "ipython",
    "version": 3
   },
   "file_extension": ".py",
   "mimetype": "text/x-python",
   "name": "python",
   "nbconvert_exporter": "python",
   "pygments_lexer": "ipython3",
   "version": "3.8.5"
  }
 },
 "nbformat": 4,
 "nbformat_minor": 4
}
